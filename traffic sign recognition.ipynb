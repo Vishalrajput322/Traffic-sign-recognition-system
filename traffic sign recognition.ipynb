{
 "cells": [
  {
   "cell_type": "code",
   "execution_count": 2,
   "id": "721e2ca2-10cc-4030-a974-83e8e0dd1f4b",
   "metadata": {},
   "outputs": [],
   "source": [
    "import os\n",
    "from PIL import Image, ImageTk\n",
    "import numpy as np\n",
    "import matplotlib.pyplot as plt\n",
    "import tkinter as tk\n",
    "from tkinter import filedialog\n",
    "from tkinter import filedialog, Label, Button\n",
    "from keras.models import load_model\n",
    "import warnings\n",
    "# Ignore warnings\n",
    "warnings.filterwarnings('ignore')"
   ]
  },
  {
   "cell_type": "code",
   "execution_count": 3,
   "id": "9347cae3-8212-4248-8eee-f83cdf0a255c",
   "metadata": {},
   "outputs": [],
   "source": [
    "# Set the directory to where your model and files are stored\n",
    "os.chdir(r\"C:\\Users\\intel\\OneDrive\\Desktop\\traffic sign recognition\")"
   ]
  },
  {
   "cell_type": "code",
   "execution_count": 4,
   "id": "3a2992cb-0640-456d-b17d-6a4986b63dbb",
   "metadata": {},
   "outputs": [],
   "source": [
    "# Load the pre-trained model\n",
    "model = load_model(\"./training/TSR.h5\", compile=False)"
   ]
  },
  {
   "cell_type": "code",
   "execution_count": 5,
   "id": "8b3862d0-f4a6-4744-88e4-0176c8eee380",
   "metadata": {},
   "outputs": [],
   "source": [
    "clss = {0:\"Speed limit (20Km/h)\",\n",
    "       1:\"Speed limit (30Km/h)\",\n",
    "       2:\"Speed limit (50Km/h)\",\n",
    "       3:\"Speed limit (60Km/h)\",\n",
    "       4:\"Speed limit (70Km/h)\",\n",
    "       5:\"Speed limit (80Km/h)\",\n",
    "       6:\"End of speed limit (80Km/h)\",\n",
    "       7:\"Speed limit (100Km/h)\",\n",
    "       8:\"Speed limit (120Km/h)\",\n",
    "       9:\"No passing\",\n",
    "       10:\"No passing vehicles over 3.5 tons\",\n",
    "       11:\"Right-of-way at intersection\",\n",
    "       12:\"Priority road\",\n",
    "       13:\"Yield\",\n",
    "       14:\"Stop\",\n",
    "       15:\"No vehicles\",\n",
    "       16:\"vehicles > 3.5 tons prohibited\",\n",
    "       17:\"No entry\",\n",
    "       18:\"General caution\",\n",
    "       19:\"Dangerous curve left\",\n",
    "       20:\"Dangerous curve right\",\n",
    "       21:\"Double curve\",\n",
    "       22:\"Bumpy road\",\n",
    "       23:\"Slippery road\",\n",
    "        24:\"Road narrows on the right\",\n",
    "        25:\"Road work\",\n",
    "        26:\"Traffic signals\",\n",
    "        27:\"Pedestirans\",\n",
    "        28:\"Children crossing\",\n",
    "        29:\"Bicycles\",\n",
    "        30:\"Beaware of ice/snow\",\n",
    "        31:\"Wild animals crossing\",\n",
    "        32:\"End speed + passing limits\",\n",
    "        33:\"Turn right ahead\",\n",
    "        34:\"Turn left ahead\",\n",
    "        35:\"Ahead only\",\n",
    "        36:\"Go straight of right\",\n",
    "        37:\"Go straight of left\",\n",
    "        38:\"Keep right\",\n",
    "        39:\"Keep left\",\n",
    "        40:\"Round-about mandatory \",\n",
    "        41:\"End of no passing\",\n",
    "        42:\"End no passing vehicles > 3.5 tons\"\n",
    "        \n",
    "       }"
   ]
  },
  {
   "cell_type": "code",
   "execution_count": 6,
   "id": "5206b56c-ce4f-4b3e-bdc9-01def1eba1f4",
   "metadata": {},
   "outputs": [],
   "source": [
    "# Function to predict traffic sign from the image\n",
    "def test_on_images(img):\n",
    "    data1 = []\n",
    "    image1 = Image.open(img)\n",
    "    image1 = image1.resize((30, 30))\n",
    "    data1.append(np.array(image1))\n",
    "    x_test1 = np.array(data1)\n",
    "    y_pred1 = model.predict(x_test1)\n",
    "    return image1, y_pred1"
   ]
  },
  {
   "cell_type": "code",
   "execution_count": 7,
   "id": "3349d01a-0cf2-4953-9fe9-6a8ce9c2a856",
   "metadata": {},
   "outputs": [],
   "source": [
    "# Function to handle image selection and prediction\n",
    "def browse_image():\n",
    "    file_path = filedialog.askopenfilename()\n",
    "    if file_path:\n",
    "        plot, prediction = test_on_images(file_path)\n",
    "        a = np.argmax(prediction)\n",
    "        prediction_label.config(text=f\"Predicted Traffic Sign: {clss[a]}\")\n",
    "        \n",
    "        # Display the selected image\n",
    "        img = Image.open(file_path)\n",
    "        img = img.resize((200, 200))  # Resize for better visibility\n",
    "        img_tk = ImageTk.PhotoImage(img)\n",
    "        image_label.config(image=img_tk)\n",
    "        image_label.image = img_tk"
   ]
  },
  {
   "cell_type": "code",
   "execution_count": 8,
   "id": "b344304c-d057-46d3-8838-59006d7556a3",
   "metadata": {},
   "outputs": [
    {
     "data": {
      "text/plain": [
       "''"
      ]
     },
     "execution_count": 8,
     "metadata": {},
     "output_type": "execute_result"
    }
   ],
   "source": [
    "# Create the main Tkinter window\n",
    "root = tk.Tk()\n",
    "root.title(\"Traffic Sign Recognition System\")\n",
    "root.geometry(\"600x400\")"
   ]
  },
  {
   "cell_type": "code",
   "execution_count": 9,
   "id": "cb29faaa-dba7-404d-92b0-865a1da3ff59",
   "metadata": {},
   "outputs": [],
   "source": [
    "# Label to display the image\n",
    "image_label = tk.Label(root)\n",
    "image_label.pack(pady=20)"
   ]
  },
  {
   "cell_type": "code",
   "execution_count": 10,
   "id": "625c3b56-dac2-4b0d-8ae2-9459ca32d457",
   "metadata": {},
   "outputs": [],
   "source": [
    "# Button to browse and select an image\n",
    "browse_button = tk.Button(root, text=\"Select Traffic Sign Image\", command=browse_image)\n",
    "browse_button.pack(pady=10)"
   ]
  },
  {
   "cell_type": "code",
   "execution_count": 11,
   "id": "36797fbc-8efd-4185-8cfb-3d6f56e072d2",
   "metadata": {},
   "outputs": [],
   "source": [
    "# Label to display the prediction result\n",
    "prediction_label = tk.Label(root, text=\"Predicted Traffic Sign: \", font=(\"Helvetica\", 14))\n",
    "prediction_label.pack(pady=20)"
   ]
  },
  {
   "cell_type": "code",
   "execution_count": 12,
   "id": "d16ca359-6420-45ed-a256-c06886c59d47",
   "metadata": {},
   "outputs": [
    {
     "name": "stdout",
     "output_type": "stream",
     "text": [
      "\u001b[1m1/1\u001b[0m \u001b[32m━━━━━━━━━━━━━━━━━━━━\u001b[0m\u001b[37m\u001b[0m \u001b[1m0s\u001b[0m 472ms/step\n"
     ]
    }
   ],
   "source": [
    "# Start the Tkinter event loop\n",
    "root.mainloop()"
   ]
  },
  {
   "cell_type": "code",
   "execution_count": null,
   "id": "b35c269b-0638-49a1-93ca-caa5b08eea5a",
   "metadata": {},
   "outputs": [],
   "source": []
  }
 ],
 "metadata": {
  "kernelspec": {
   "display_name": "Python 3 (ipykernel)",
   "language": "python",
   "name": "python3"
  },
  "language_info": {
   "codemirror_mode": {
    "name": "ipython",
    "version": 3
   },
   "file_extension": ".py",
   "mimetype": "text/x-python",
   "name": "python",
   "nbconvert_exporter": "python",
   "pygments_lexer": "ipython3",
   "version": "3.12.2"
  }
 },
 "nbformat": 4,
 "nbformat_minor": 5
}
